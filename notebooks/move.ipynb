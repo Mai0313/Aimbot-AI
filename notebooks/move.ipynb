{
 "cells": [
  {
   "cell_type": "code",
   "execution_count": null,
   "metadata": {},
   "outputs": [],
   "source": [
    "import os\n",
    "import shutil\n",
    "\n",
    "import autorootcwd\n",
    "\n",
    "\n",
    "def organize_labels(label_path: str = \"./data/labels/train\"):\n",
    "    label_list = os.listdir(label_path)\n",
    "    output_folder = \"./data/overall\"\n",
    "    os.makedirs(output_folder, exist_ok=True)\n",
    "    for label_name in label_list:\n",
    "        train_label_name_path = f\"{label_path}/{label_name}\"\n",
    "        if os.path.exists(train_label_name_path):\n",
    "            shutil.move(train_label_name_path, output_folder)\n",
    "\n",
    "\n",
    "train_label = \"./data/labels/train\"\n",
    "val_label = \"./data/labels/val\"\n",
    "organize_labels(train_label)\n",
    "organize_labels(val_label)"
   ]
  },
  {
   "cell_type": "code",
   "execution_count": null,
   "metadata": {},
   "outputs": [],
   "source": [
    "import os\n",
    "import shutil\n",
    "\n",
    "import autorootcwd\n",
    "\n",
    "\n",
    "def move_labels(image_path: list = \"./data/images/train\"):\n",
    "    filenames = os.listdir(image_path)\n",
    "    overall = os.listdir(\"./data/overall\")\n",
    "    output_path = image_path.replace(\"images\", \"labels\")\n",
    "    for filename in filenames:\n",
    "        label_name = filename.replace(\".jpg\", \".txt\")\n",
    "        exist_label_name = label_name in overall\n",
    "        if exist_label_name:\n",
    "            label_path_source = f\"./data/overall/{label_name}\"\n",
    "            if os.path.exists(label_path_source):\n",
    "                label_path_output = f\"{output_path}/{label_name}\"\n",
    "                shutil.move(label_path_source, label_path_output)\n",
    "            else:\n",
    "                print(f\"{label_path_source} does not exist\")\n",
    "\n",
    "\n",
    "train_image = \"./data/images/train\"\n",
    "val_image = \"./data/images/val\"\n",
    "move_labels(train_image)\n",
    "move_labels(val_image)"
   ]
  }
 ],
 "metadata": {
  "kernelspec": {
   "display_name": "yolo",
   "language": "python",
   "name": "python3"
  },
  "language_info": {
   "codemirror_mode": {
    "name": "ipython",
    "version": 3
   },
   "file_extension": ".py",
   "mimetype": "text/x-python",
   "name": "python",
   "nbconvert_exporter": "python",
   "pygments_lexer": "ipython3",
   "version": "3.9.15"
  }
 },
 "nbformat": 4,
 "nbformat_minor": 2
}
