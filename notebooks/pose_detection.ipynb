{
 "cells": [
  {
   "cell_type": "markdown",
   "metadata": {},
   "source": [
    "### Train"
   ]
  },
  {
   "cell_type": "code",
   "execution_count": null,
   "metadata": {},
   "outputs": [],
   "source": [
    "import autorootcwd\n",
    "from ultralytics import YOLO\n",
    "\n",
    "# Load a model\n",
    "model = YOLO('./configs/models/v8/yolov8-pose.yaml')\n",
    "model = YOLO('./pretrained/yolov8n-pose.pt')\n",
    "model = YOLO('./configs/models/v8/yolov8-pose.yaml').load('./pretrained/yolov8n-pose.pt')\n",
    "\n",
    "# Train the model\n",
    "results = model.train(data='./configs/datasets/coco8-pose.yaml', epochs=1, imgsz=640)"
   ]
  },
  {
   "cell_type": "markdown",
   "metadata": {},
   "source": [
    "### Validation"
   ]
  },
  {
   "cell_type": "code",
   "execution_count": null,
   "metadata": {},
   "outputs": [],
   "source": [
    "import autorootcwd\n",
    "from ultralytics import YOLO\n",
    "\n",
    "# Load a model\n",
    "model = YOLO('./pretrained/yolov8n-pose.pt')  # load an official model\n",
    "model = YOLO('./runs/pose/train/weights/best.pt')  # load a custom model\n",
    "\n",
    "# Validate the model\n",
    "metrics = model.val()  # no arguments needed, dataset and settings remembered\n",
    "metrics.box.map    # map50-95\n",
    "metrics.box.map50  # map50\n",
    "metrics.box.map75  # map75\n",
    "metrics.box.maps   # a list contains map50-95 of each category"
   ]
  },
  {
   "cell_type": "markdown",
   "metadata": {},
   "source": [
    "### Prediction"
   ]
  },
  {
   "cell_type": "code",
   "execution_count": null,
   "metadata": {},
   "outputs": [],
   "source": [
    "import os\n",
    "\n",
    "import autorootcwd\n",
    "from ultralytics import YOLO\n",
    "\n",
    "model = YOLO('./pretrained/yolov8n-pose.pt')\n",
    "model = YOLO('./runs/pose/train/weights/best.pt')\n",
    "\n",
    "predict_image_path = \"./data/predict_test\"\n",
    "predict_images = [f for f in os.listdir(predict_image_path) if f.endswith(\".jpg\") or f.endswith(\".png\")]\n",
    "predict_images = [f\"{predict_image_path}/{f}\" for f in predict_images]\n",
    "results = model.predict(predict_images, save=True, conf=0.5)\n",
    "for result in results:\n",
    "    boxes = result.boxes\n",
    "    masks = result.masks\n",
    "    keypoints = result.keypoints\n",
    "    probs = result.probs"
   ]
  },
  {
   "cell_type": "markdown",
   "metadata": {},
   "source": [
    "### Export Model"
   ]
  },
  {
   "cell_type": "code",
   "execution_count": null,
   "metadata": {},
   "outputs": [],
   "source": [
    "import autorootcwd\n",
    "from ultralytics import YOLO\n",
    "\n",
    "# Load a model\n",
    "model = YOLO('./pretrained/yolov8n-pose.pt')  # load an official model\n",
    "model = YOLO('./runs/pose/train/weights/best.pt')  # load a custom trained model\n",
    "\n",
    "# Export the model\n",
    "model_output_dir = model.export(format='onnx')"
   ]
  }
 ],
 "metadata": {
  "kernelspec": {
   "display_name": "yolo",
   "language": "python",
   "name": "python3"
  },
  "language_info": {
   "codemirror_mode": {
    "name": "ipython",
    "version": 3
   },
   "file_extension": ".py",
   "mimetype": "text/x-python",
   "name": "python",
   "nbconvert_exporter": "python",
   "pygments_lexer": "ipython3",
   "version": "3.9.15"
  }
 },
 "nbformat": 4,
 "nbformat_minor": 2
}
